{
 "cells": [
  {
   "cell_type": "markdown",
   "id": "66af6016-91ba-4954-8a59-51f5317cd2a5",
   "metadata": {},
   "source": [
    "# Numpy Practice "
   ]
  },
  {
   "cell_type": "code",
   "execution_count": 1,
   "id": "aedb6d2d-d064-4417-83b1-949d81e083ed",
   "metadata": {},
   "outputs": [],
   "source": [
    "import numpy as np"
   ]
  },
  {
   "cell_type": "code",
   "execution_count": 2,
   "id": "11f2d439-7394-4e73-93db-96be3949d2b2",
   "metadata": {},
   "outputs": [
    {
     "name": "stdout",
     "output_type": "stream",
     "text": [
      "hello world\n"
     ]
    }
   ],
   "source": [
    "print('hello world')"
   ]
  },
  {
   "cell_type": "code",
   "execution_count": 5,
   "id": "8333f96d-15b5-4b7b-b744-7ad7ead3431a",
   "metadata": {},
   "outputs": [],
   "source": [
    "arr=np.array([2,3,43,7],np.int8)"
   ]
  },
  {
   "cell_type": "code",
   "execution_count": 6,
   "id": "b14f02b4-9990-4c00-aee4-03b05ad4f3e9",
   "metadata": {},
   "outputs": [
    {
     "data": {
      "text/plain": [
       "array([ 2,  3, 43,  7], dtype=int8)"
      ]
     },
     "execution_count": 6,
     "metadata": {},
     "output_type": "execute_result"
    }
   ],
   "source": [
    "arr"
   ]
  },
  {
   "cell_type": "code",
   "execution_count": 7,
   "id": "16ef06df-bd47-4e32-a05b-ff5489ff1b81",
   "metadata": {},
   "outputs": [
    {
     "data": {
      "text/plain": [
       "7"
      ]
     },
     "execution_count": 7,
     "metadata": {},
     "output_type": "execute_result"
    }
   ],
   "source": [
    "arr[3]"
   ]
  },
  {
   "cell_type": "code",
   "execution_count": 8,
   "id": "a5267ac6-c3c8-48e5-8d84-55aea77689d8",
   "metadata": {},
   "outputs": [
    {
     "data": {
      "text/plain": [
       "(4,)"
      ]
     },
     "execution_count": 8,
     "metadata": {},
     "output_type": "execute_result"
    }
   ],
   "source": [
    "arr.shape"
   ]
  },
  {
   "cell_type": "code",
   "execution_count": 9,
   "id": "d1808b2b-835a-484c-95e7-1da33521c789",
   "metadata": {},
   "outputs": [
    {
     "data": {
      "text/plain": [
       "dtype('int8')"
      ]
     },
     "execution_count": 9,
     "metadata": {},
     "output_type": "execute_result"
    }
   ],
   "source": [
    "arr.dtype"
   ]
  },
  {
   "cell_type": "code",
   "execution_count": 10,
   "id": "5e76db96-9db0-41dd-aed0-265727c732f7",
   "metadata": {},
   "outputs": [],
   "source": [
    "arr[3]=24"
   ]
  },
  {
   "cell_type": "code",
   "execution_count": 11,
   "id": "0bfc5779-c276-4546-bb7a-06380ee0e58e",
   "metadata": {},
   "outputs": [
    {
     "data": {
      "text/plain": [
       "array([ 2,  3, 43, 24], dtype=int8)"
      ]
     },
     "execution_count": 11,
     "metadata": {},
     "output_type": "execute_result"
    }
   ],
   "source": [
    "arr"
   ]
  },
  {
   "cell_type": "markdown",
   "id": "bc4d412b-8a3a-4114-9f69-95dd78351ade",
   "metadata": {},
   "source": [
    "*Array Creation methods*"
   ]
  },
  {
   "cell_type": "markdown",
   "id": "123dcc84-b822-4744-95fe-5aeaed439d73",
   "metadata": {},
   "source": [
    "**Array Creation from other python structures**"
   ]
  },
  {
   "cell_type": "code",
   "execution_count": 12,
   "id": "34537590-ff9a-4f8f-8b03-3cd5341f32d3",
   "metadata": {},
   "outputs": [],
   "source": [
    "listarray =np.array([[1,2,3],[4,5,6],[9,8,8]])"
   ]
  },
  {
   "cell_type": "code",
   "execution_count": 13,
   "id": "b7d7cc90-f568-400e-9c4f-ee24ca004438",
   "metadata": {},
   "outputs": [
    {
     "data": {
      "text/plain": [
       "array([[1, 2, 3],\n",
       "       [4, 5, 6],\n",
       "       [9, 8, 8]])"
      ]
     },
     "execution_count": 13,
     "metadata": {},
     "output_type": "execute_result"
    }
   ],
   "source": [
    "listarray"
   ]
  },
  {
   "cell_type": "code",
   "execution_count": 14,
   "id": "3fff7b48-7027-4bc0-b0c3-e8df20cb65b9",
   "metadata": {},
   "outputs": [
    {
     "data": {
      "text/plain": [
       "(3, 3)"
      ]
     },
     "execution_count": 14,
     "metadata": {},
     "output_type": "execute_result"
    }
   ],
   "source": [
    "listarray.shape"
   ]
  },
  {
   "cell_type": "code",
   "execution_count": 15,
   "id": "b8dc3861-1d11-488a-877d-1e60c3a7a180",
   "metadata": {},
   "outputs": [
    {
     "data": {
      "text/plain": [
       "dtype('int32')"
      ]
     },
     "execution_count": 15,
     "metadata": {},
     "output_type": "execute_result"
    }
   ],
   "source": [
    "listarray.dtype"
   ]
  },
  {
   "cell_type": "code",
   "execution_count": 17,
   "id": "657ba857-c595-43da-b6fe-f4b951ef2578",
   "metadata": {},
   "outputs": [
    {
     "data": {
      "text/plain": [
       "9"
      ]
     },
     "execution_count": 17,
     "metadata": {},
     "output_type": "execute_result"
    }
   ],
   "source": [
    "listarray.size"
   ]
  },
  {
   "cell_type": "code",
   "execution_count": 18,
   "id": "f9fda834-f09c-496b-b977-1b50ca6e67e7",
   "metadata": {},
   "outputs": [],
   "source": [
    "setarray=np.array({23,33,45})"
   ]
  },
  {
   "cell_type": "code",
   "execution_count": 19,
   "id": "297c37a0-c856-4a65-9cf1-ce1956072475",
   "metadata": {},
   "outputs": [
    {
     "data": {
      "text/plain": [
       "array({33, 45, 23}, dtype=object)"
      ]
     },
     "execution_count": 19,
     "metadata": {},
     "output_type": "execute_result"
    }
   ],
   "source": [
    "setarray"
   ]
  },
  {
   "cell_type": "markdown",
   "id": "fecef9f3-8a29-436e-b238-48b929ac7798",
   "metadata": {},
   "source": [
    "**intrinsic numpy array creation objects**"
   ]
  },
  {
   "cell_type": "code",
   "execution_count": 20,
   "id": "432ad413-16db-42a8-9684-f9ce6130a38b",
   "metadata": {},
   "outputs": [],
   "source": [
    "zeros=np.zeros((2,5))"
   ]
  },
  {
   "cell_type": "code",
   "execution_count": 21,
   "id": "9c038a5e-6c9b-44c2-83c9-2638a7bf3901",
   "metadata": {},
   "outputs": [
    {
     "data": {
      "text/plain": [
       "array([[0., 0., 0., 0., 0.],\n",
       "       [0., 0., 0., 0., 0.]])"
      ]
     },
     "execution_count": 21,
     "metadata": {},
     "output_type": "execute_result"
    }
   ],
   "source": [
    "zeros"
   ]
  },
  {
   "cell_type": "code",
   "execution_count": 22,
   "id": "0b2fc4d0-4fab-4d81-b97a-9940fd5cf3dd",
   "metadata": {},
   "outputs": [],
   "source": [
    "rng=np.arange(15)"
   ]
  },
  {
   "cell_type": "code",
   "execution_count": 23,
   "id": "8a7e6915-7913-40b9-8ef8-e74d0cb5c3f0",
   "metadata": {},
   "outputs": [
    {
     "data": {
      "text/plain": [
       "array([ 0,  1,  2,  3,  4,  5,  6,  7,  8,  9, 10, 11, 12, 13, 14])"
      ]
     },
     "execution_count": 23,
     "metadata": {},
     "output_type": "execute_result"
    }
   ],
   "source": [
    "rng"
   ]
  },
  {
   "cell_type": "code",
   "execution_count": 26,
   "id": "c0244294-f936-45d0-aed6-12cacc55ae2b",
   "metadata": {},
   "outputs": [],
   "source": [
    "lspace=np.linspace(1,5,9)"
   ]
  },
  {
   "cell_type": "code",
   "execution_count": 27,
   "id": "b7beb562-de8d-48f1-81d2-87806b8707a3",
   "metadata": {},
   "outputs": [
    {
     "data": {
      "text/plain": [
       "array([1. , 1.5, 2. , 2.5, 3. , 3.5, 4. , 4.5, 5. ])"
      ]
     },
     "execution_count": 27,
     "metadata": {},
     "output_type": "execute_result"
    }
   ],
   "source": [
    "lspace"
   ]
  },
  {
   "cell_type": "code",
   "execution_count": 28,
   "id": "e733f69f-27ff-487d-9f82-e5fbaafcc8c1",
   "metadata": {},
   "outputs": [],
   "source": [
    "emp=np.empty((4,6))"
   ]
  },
  {
   "cell_type": "code",
   "execution_count": 29,
   "id": "2b5fb5de-c766-445e-923b-02a259b4ec41",
   "metadata": {},
   "outputs": [
    {
     "data": {
      "text/plain": [
       "array([[6.23042070e-307, 4.67296746e-307, 1.69121096e-306,\n",
       "        7.56602523e-307, 1.29060871e-306, 2.13620264e-306],\n",
       "       [6.23053614e-307, 1.20161797e-306, 6.23058707e-307,\n",
       "        8.45593934e-307, 9.34598246e-307, 6.23061763e-307],\n",
       "       [7.56603881e-307, 1.11260416e-306, 9.34598247e-307,\n",
       "        9.34613185e-307, 3.11525958e-307, 1.69118108e-306],\n",
       "       [8.06632139e-308, 1.20160711e-306, 1.69119330e-306,\n",
       "        1.33511562e-306, 1.24610383e-306, 1.37954579e-306]])"
      ]
     },
     "execution_count": 29,
     "metadata": {},
     "output_type": "execute_result"
    }
   ],
   "source": [
    "emp"
   ]
  },
  {
   "cell_type": "code",
   "execution_count": 30,
   "id": "042aec36-6924-4c18-a89e-7aa647feabfe",
   "metadata": {},
   "outputs": [],
   "source": [
    "emp_like =np.empty_like(lspace)"
   ]
  },
  {
   "cell_type": "code",
   "execution_count": 31,
   "id": "b8f721e7-3cc7-49e7-82e8-5b80816e2f6b",
   "metadata": {},
   "outputs": [
    {
     "data": {
      "text/plain": [
       "array([1. , 1.5, 2. , 2.5, 3. , 3.5, 4. , 4.5, 5. ])"
      ]
     },
     "execution_count": 31,
     "metadata": {},
     "output_type": "execute_result"
    }
   ],
   "source": [
    "emp_like"
   ]
  },
  {
   "cell_type": "code",
   "execution_count": 32,
   "id": "3924aed5-c317-455c-925a-34d674e03b1f",
   "metadata": {},
   "outputs": [],
   "source": [
    "ide=np.identity(4)"
   ]
  },
  {
   "cell_type": "code",
   "execution_count": 33,
   "id": "4b944a48-d7fe-438f-b011-575941a78de7",
   "metadata": {},
   "outputs": [
    {
     "data": {
      "text/plain": [
       "array([[1., 0., 0., 0.],\n",
       "       [0., 1., 0., 0.],\n",
       "       [0., 0., 1., 0.],\n",
       "       [0., 0., 0., 1.]])"
      ]
     },
     "execution_count": 33,
     "metadata": {},
     "output_type": "execute_result"
    }
   ],
   "source": [
    "ide"
   ]
  },
  {
   "cell_type": "code",
   "execution_count": 35,
   "id": "35615c4d-d945-4d23-93c1-d3af4255f733",
   "metadata": {},
   "outputs": [],
   "source": [
    "arrr=np.arange(99)"
   ]
  },
  {
   "cell_type": "code",
   "execution_count": 36,
   "id": "f61b41a4-912c-41cf-bd36-668bee061066",
   "metadata": {},
   "outputs": [
    {
     "data": {
      "text/plain": [
       "array([ 0,  1,  2,  3,  4,  5,  6,  7,  8,  9, 10, 11, 12, 13, 14, 15, 16,\n",
       "       17, 18, 19, 20, 21, 22, 23, 24, 25, 26, 27, 28, 29, 30, 31, 32, 33,\n",
       "       34, 35, 36, 37, 38, 39, 40, 41, 42, 43, 44, 45, 46, 47, 48, 49, 50,\n",
       "       51, 52, 53, 54, 55, 56, 57, 58, 59, 60, 61, 62, 63, 64, 65, 66, 67,\n",
       "       68, 69, 70, 71, 72, 73, 74, 75, 76, 77, 78, 79, 80, 81, 82, 83, 84,\n",
       "       85, 86, 87, 88, 89, 90, 91, 92, 93, 94, 95, 96, 97, 98])"
      ]
     },
     "execution_count": 36,
     "metadata": {},
     "output_type": "execute_result"
    }
   ],
   "source": [
    "arrr"
   ]
  },
  {
   "cell_type": "code",
   "execution_count": 37,
   "id": "a1af64c7-111e-4c65-a2e8-a1a968ba0360",
   "metadata": {},
   "outputs": [
    {
     "data": {
      "text/plain": [
       "array([[ 0,  1,  2,  3,  4,  5,  6,  7,  8,  9, 10, 11, 12, 13, 14, 15,\n",
       "        16, 17, 18, 19, 20, 21, 22, 23, 24, 25, 26, 27, 28, 29, 30, 31,\n",
       "        32],\n",
       "       [33, 34, 35, 36, 37, 38, 39, 40, 41, 42, 43, 44, 45, 46, 47, 48,\n",
       "        49, 50, 51, 52, 53, 54, 55, 56, 57, 58, 59, 60, 61, 62, 63, 64,\n",
       "        65],\n",
       "       [66, 67, 68, 69, 70, 71, 72, 73, 74, 75, 76, 77, 78, 79, 80, 81,\n",
       "        82, 83, 84, 85, 86, 87, 88, 89, 90, 91, 92, 93, 94, 95, 96, 97,\n",
       "        98]])"
      ]
     },
     "execution_count": 37,
     "metadata": {},
     "output_type": "execute_result"
    }
   ],
   "source": [
    "arrr.reshape(3,33)"
   ]
  },
  {
   "cell_type": "code",
   "execution_count": 39,
   "id": "6e1c90e4-5648-4ba7-baea-841306e3ee5a",
   "metadata": {},
   "outputs": [],
   "source": [
    "arrr=arrr.ravel()"
   ]
  },
  {
   "cell_type": "code",
   "execution_count": 40,
   "id": "4c443730-f02f-4fb2-a976-ae53c695cde6",
   "metadata": {},
   "outputs": [
    {
     "data": {
      "text/plain": [
       "array([ 0,  1,  2,  3,  4,  5,  6,  7,  8,  9, 10, 11, 12, 13, 14, 15, 16,\n",
       "       17, 18, 19, 20, 21, 22, 23, 24, 25, 26, 27, 28, 29, 30, 31, 32, 33,\n",
       "       34, 35, 36, 37, 38, 39, 40, 41, 42, 43, 44, 45, 46, 47, 48, 49, 50,\n",
       "       51, 52, 53, 54, 55, 56, 57, 58, 59, 60, 61, 62, 63, 64, 65, 66, 67,\n",
       "       68, 69, 70, 71, 72, 73, 74, 75, 76, 77, 78, 79, 80, 81, 82, 83, 84,\n",
       "       85, 86, 87, 88, 89, 90, 91, 92, 93, 94, 95, 96, 97, 98])"
      ]
     },
     "execution_count": 40,
     "metadata": {},
     "output_type": "execute_result"
    }
   ],
   "source": [
    "arrr"
   ]
  },
  {
   "cell_type": "markdown",
   "id": "926baac2-f9bb-421b-86a1-b1bec6f5f7b3",
   "metadata": {},
   "source": [
    "# Axis"
   ]
  },
  {
   "cell_type": "code",
   "execution_count": 42,
   "id": "9803928e-b756-4a0b-a6bd-8925def090cd",
   "metadata": {},
   "outputs": [],
   "source": [
    "x=[[1,2,3],[4,5,6],[7,1,0]]"
   ]
  },
  {
   "cell_type": "code",
   "execution_count": 43,
   "id": "99689297-83f7-403f-bbc4-c4d964459785",
   "metadata": {},
   "outputs": [],
   "source": [
    "ar=np.array(x)"
   ]
  },
  {
   "cell_type": "code",
   "execution_count": 44,
   "id": "ddce259c-4a9b-4392-b80f-08b90bf1cc6a",
   "metadata": {},
   "outputs": [
    {
     "data": {
      "text/plain": [
       "array([[1, 2, 3],\n",
       "       [4, 5, 6],\n",
       "       [7, 1, 0]])"
      ]
     },
     "execution_count": 44,
     "metadata": {},
     "output_type": "execute_result"
    }
   ],
   "source": [
    "ar"
   ]
  },
  {
   "cell_type": "code",
   "execution_count": 45,
   "id": "328a3843-0b53-4df9-8fe1-8830e5d19ddd",
   "metadata": {},
   "outputs": [
    {
     "data": {
      "text/plain": [
       "array([12,  8,  9])"
      ]
     },
     "execution_count": 45,
     "metadata": {},
     "output_type": "execute_result"
    }
   ],
   "source": [
    "ar.sum(axis=0)"
   ]
  },
  {
   "cell_type": "code",
   "execution_count": 46,
   "id": "428d061b-b967-4d6e-b269-902d8719a8bb",
   "metadata": {},
   "outputs": [
    {
     "data": {
      "text/plain": [
       "array([ 6, 15,  8])"
      ]
     },
     "execution_count": 46,
     "metadata": {},
     "output_type": "execute_result"
    }
   ],
   "source": [
    "ar.sum(axis=1)"
   ]
  },
  {
   "cell_type": "markdown",
   "id": "12447300-0b0f-4a37-8196-a7ed2b76e418",
   "metadata": {},
   "source": [
    "*somemethods*"
   ]
  },
  {
   "cell_type": "code",
   "execution_count": 47,
   "id": "0b28ca84-7da2-4a2b-a991-d26b9c5305dd",
   "metadata": {},
   "outputs": [
    {
     "data": {
      "text/plain": [
       "array([[1, 4, 7],\n",
       "       [2, 5, 1],\n",
       "       [3, 6, 0]])"
      ]
     },
     "execution_count": 47,
     "metadata": {},
     "output_type": "execute_result"
    }
   ],
   "source": [
    "ar.T"
   ]
  },
  {
   "cell_type": "code",
   "execution_count": 48,
   "id": "4f64346a-e49d-4566-b730-2af2ae786311",
   "metadata": {},
   "outputs": [
    {
     "data": {
      "text/plain": [
       "<numpy.flatiter at 0x205000798a0>"
      ]
     },
     "execution_count": 48,
     "metadata": {},
     "output_type": "execute_result"
    }
   ],
   "source": [
    "ar.flat"
   ]
  },
  {
   "cell_type": "code",
   "execution_count": 49,
   "id": "1da3b59b-bb80-4263-a08d-573c0006832f",
   "metadata": {},
   "outputs": [
    {
     "name": "stdout",
     "output_type": "stream",
     "text": [
      "1\n",
      "2\n",
      "3\n",
      "4\n",
      "5\n",
      "6\n",
      "7\n",
      "1\n",
      "0\n"
     ]
    }
   ],
   "source": [
    "for item in ar.flat:\n",
    "    print(item)"
   ]
  },
  {
   "cell_type": "code",
   "execution_count": 50,
   "id": "c6590326-e38b-44f6-a4ab-ab6eb836c934",
   "metadata": {},
   "outputs": [
    {
     "data": {
      "text/plain": [
       "2"
      ]
     },
     "execution_count": 50,
     "metadata": {},
     "output_type": "execute_result"
    }
   ],
   "source": [
    "ar.ndim"
   ]
  },
  {
   "cell_type": "code",
   "execution_count": 51,
   "id": "15587607-e0a5-4d35-9a3e-afd09a9fd9cc",
   "metadata": {},
   "outputs": [
    {
     "data": {
      "text/plain": [
       "9"
      ]
     },
     "execution_count": 51,
     "metadata": {},
     "output_type": "execute_result"
    }
   ],
   "source": [
    "ar.size"
   ]
  },
  {
   "cell_type": "code",
   "execution_count": 52,
   "id": "ddf19d81-a637-4504-a73d-674074bfe25e",
   "metadata": {},
   "outputs": [
    {
     "data": {
      "text/plain": [
       "36"
      ]
     },
     "execution_count": 52,
     "metadata": {},
     "output_type": "execute_result"
    }
   ],
   "source": [
    "ar.nbytes"
   ]
  },
  {
   "cell_type": "code",
   "execution_count": 54,
   "id": "6c5f430e-6065-46b8-90aa-64ae68f7133b",
   "metadata": {},
   "outputs": [],
   "source": [
    "one = np.array([1,7,2,19])"
   ]
  },
  {
   "cell_type": "code",
   "execution_count": 55,
   "id": "30b2608a-4da1-47c4-94f2-1e967836c2b7",
   "metadata": {},
   "outputs": [
    {
     "data": {
      "text/plain": [
       "3"
      ]
     },
     "execution_count": 55,
     "metadata": {},
     "output_type": "execute_result"
    }
   ],
   "source": [
    "one.argmax()"
   ]
  },
  {
   "cell_type": "code",
   "execution_count": 56,
   "id": "7fc7c05d-ad6e-4441-a01a-f3abb11e6770",
   "metadata": {},
   "outputs": [
    {
     "data": {
      "text/plain": [
       "0"
      ]
     },
     "execution_count": 56,
     "metadata": {},
     "output_type": "execute_result"
    }
   ],
   "source": [
    "one.argmin()"
   ]
  },
  {
   "cell_type": "code",
   "execution_count": 57,
   "id": "ed6ca370-f046-4b86-ac19-b44f8705b766",
   "metadata": {},
   "outputs": [
    {
     "data": {
      "text/plain": [
       "array([0, 2, 1, 3], dtype=int64)"
      ]
     },
     "execution_count": 57,
     "metadata": {},
     "output_type": "execute_result"
    }
   ],
   "source": [
    "one.argsort()"
   ]
  },
  {
   "cell_type": "code",
   "execution_count": 58,
   "id": "e8e24731-7cbb-4cec-b511-460331fce935",
   "metadata": {},
   "outputs": [
    {
     "data": {
      "text/plain": [
       "array([2, 1, 1], dtype=int64)"
      ]
     },
     "execution_count": 58,
     "metadata": {},
     "output_type": "execute_result"
    }
   ],
   "source": [
    "ar.argmax(axis=0)"
   ]
  },
  {
   "cell_type": "code",
   "execution_count": 59,
   "id": "28fb171d-6bf2-44d8-ba30-93eff8c08478",
   "metadata": {},
   "outputs": [
    {
     "data": {
      "text/plain": [
       "array([[1, 2, 3],\n",
       "       [4, 5, 6],\n",
       "       [7, 1, 0]])"
      ]
     },
     "execution_count": 59,
     "metadata": {},
     "output_type": "execute_result"
    }
   ],
   "source": [
    "ar"
   ]
  },
  {
   "cell_type": "code",
   "execution_count": null,
   "id": "2bba3fb9-bdaa-4bf1-8529-76175dfbc18e",
   "metadata": {},
   "outputs": [],
   "source": []
  }
 ],
 "metadata": {
  "kernelspec": {
   "display_name": "Python 3 (ipykernel)",
   "language": "python",
   "name": "python3"
  },
  "language_info": {
   "codemirror_mode": {
    "name": "ipython",
    "version": 3
   },
   "file_extension": ".py",
   "mimetype": "text/x-python",
   "name": "python",
   "nbconvert_exporter": "python",
   "pygments_lexer": "ipython3",
   "version": "3.11.4"
  }
 },
 "nbformat": 4,
 "nbformat_minor": 5
}
